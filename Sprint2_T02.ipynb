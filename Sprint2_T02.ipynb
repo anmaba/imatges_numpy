{
 "cells": [
  {
   "cell_type": "markdown",
   "id": "0d8469e2",
   "metadata": {},
   "source": [
    "# NIVELL 1\n",
    "Treballem els conceptes de l'estructura d'una matriu, dimensió, eixos i la vectorització que ens permet reduir l'ús de for loops en operacions aritmètiques o matemàtiques..\n",
    "\n"
   ]
  },
  {
   "cell_type": "markdown",
   "id": "822ad480",
   "metadata": {},
   "source": [
    "## - Exercici 1\n",
    "Crea un np.array d'una dimensió, que inclogui l'almenys 8 nombres sencers, data type int64. Mostra la dimensió i la forma de la matriu. .\n"
   ]
  },
  {
   "cell_type": "code",
   "execution_count": 16,
   "id": "3979f55c",
   "metadata": {
    "ExecuteTime": {
     "end_time": "2022-04-05T17:54:50.048406Z",
     "start_time": "2022-04-05T17:54:50.039411Z"
    }
   },
   "outputs": [
    {
     "name": "stdout",
     "output_type": "stream",
     "text": [
      "[ 3  8 95  4  8 78  2 15  6 98  2 36 54 78 95 25 29 32 30 22]\n",
      "La dimensió de la matriu és de 1\n",
      "La forma de la matriu és de (20,)\n"
     ]
    }
   ],
   "source": [
    "import numpy as np\n",
    "unaDimensio = np.array([3,8,95,4,8,78,2,15,6,98,2,36,54,78,95,25,29,32,30,22], dtype='int64')\n",
    "print(unaDimensio)\n",
    "\n",
    "print(\"La dimensió de la matriu és de\", unaDimensio.ndim)\n",
    "\n",
    "print(\"La forma de la matriu és de\", unaDimensio.shape)"
   ]
  },
  {
   "cell_type": "markdown",
   "id": "83b6fb1e",
   "metadata": {},
   "source": [
    "## - Exercici 2\n",
    "De la matriu de l'exercici 1, calcula el valor mitjà dels valors introduïts i resta la mitjana resultant de cada un dels valors de la matriu.\n"
   ]
  },
  {
   "cell_type": "code",
   "execution_count": 34,
   "id": "53e29b15",
   "metadata": {
    "ExecuteTime": {
     "end_time": "2022-04-04T16:16:21.920900Z",
     "start_time": "2022-04-04T16:16:21.905908Z"
    }
   },
   "outputs": [
    {
     "name": "stdout",
     "output_type": "stream",
     "text": [
      "La mitjana de la matriu és 36.0\n",
      "Si restem la mitjana anterior a cadascún dels valors, la matriu queda així [-33. -28.  59. -32. -28.  42. -34. -21. -30.  62. -34.   0.  18.  42.\n",
      "  59. -11.  -7.  -4.  -6. -14.]\n"
     ]
    }
   ],
   "source": [
    "print(\"La mitjana de la matriu és\", np.mean(unaDimensio))\n",
    "\n",
    "print(\"Si restem la mitjana anterior a cadascún dels valors, la matriu queda així\", unaDimensio - np.mean(unaDimensio))"
   ]
  },
  {
   "cell_type": "markdown",
   "id": "4ced372f",
   "metadata": {},
   "source": [
    "## - Exercici 3\n",
    "Crea una matriu bidimensional amb una forma de 5 x 5. Extreu el valor màxim de la matriu, i els valors màxims de cadascun dels seus eixos."
   ]
  },
  {
   "cell_type": "code",
   "execution_count": 42,
   "id": "43159d6f",
   "metadata": {
    "ExecuteTime": {
     "end_time": "2022-04-04T16:29:03.300117Z",
     "start_time": "2022-04-04T16:29:03.287125Z"
    }
   },
   "outputs": [
    {
     "name": "stdout",
     "output_type": "stream",
     "text": [
      "[[49 77 98 93 60]\n",
      " [ 6  8 34 70 34]]\n",
      "El valor màxim de la matriu és el 98\n",
      "Els valors màxims de l'eix 0 són [49 77 98 93 60]  i els de l'eix 1 són els [98 70]\n"
     ]
    }
   ],
   "source": [
    "duesDimensions = np.random.randint(100, size=(2,5))\n",
    "print(duesDimensions)\n",
    "\n",
    "print(\"El valor màxim de la matriu és el\", np.max(duesDimensions))\n",
    "\n",
    "print(\"Els valors màxims de l'eix 0 són\", np.max(duesDimensions, axis=0), \" i els de l'eix 1 són els\", np.max(duesDimensions, axis=1))\n"
   ]
  },
  {
   "cell_type": "markdown",
   "id": "f585fe29",
   "metadata": {},
   "source": [
    "# NIVELL 2\n",
    "Treballem els conceptes de l'estructura d'una matriu, Broadcasting, indexació, Mask..\n",
    "\n"
   ]
  },
  {
   "cell_type": "markdown",
   "id": "ed9a5a5d",
   "metadata": {},
   "source": [
    "## - Exercici 4\n",
    "Mostreu-me amb exemples de diferents matrius, la regla fonamental de Broadcasting que diu : \"les matrius es poden transmetre / broadcast si les seves dimensions coincideixen o si una de les matrius té una mida d'1\".\n",
    "\n"
   ]
  },
  {
   "cell_type": "code",
   "execution_count": 19,
   "id": "8d166601",
   "metadata": {
    "ExecuteTime": {
     "end_time": "2022-04-05T18:02:15.111114Z",
     "start_time": "2022-04-05T18:02:15.092126Z"
    }
   },
   "outputs": [
    {
     "name": "stdout",
     "output_type": "stream",
     "text": [
      "[[7 2 0]\n",
      " [4 8 9]]\n",
      "____________________________\n",
      "[[3 2 1]\n",
      " [4 4 3]]\n",
      "____________________________\n",
      "[[10  4  1]\n",
      " [ 8 12 12]]\n"
     ]
    }
   ],
   "source": [
    "#Exemple 1: suma de matrius de tamany igual\n",
    "matriuA = np.random.randint(10, size=(2,3))\n",
    "matriuB = np.random.randint(5, size=(2,3))\n",
    "print(matriuA)\n",
    "print(\"____________________________\")\n",
    "print(matriuB)\n",
    "print(\"____________________________\")\n",
    "novaMatriu = np.add(matriuA, matriuB)\n",
    "print(novaMatriu)"
   ]
  },
  {
   "cell_type": "code",
   "execution_count": 21,
   "id": "a7e5147a",
   "metadata": {
    "ExecuteTime": {
     "end_time": "2022-04-05T18:02:50.775399Z",
     "start_time": "2022-04-05T18:02:50.763409Z"
    }
   },
   "outputs": [
    {
     "name": "stdout",
     "output_type": "stream",
     "text": [
      "[[[5 6 2 7]\n",
      "  [8 6 1 8]\n",
      "  [6 2 1 3]]\n",
      "\n",
      " [[2 1 6 5]\n",
      "  [0 1 9 6]\n",
      "  [8 1 2 9]]]\n",
      "____________________________\n",
      "[[[1]]\n",
      "\n",
      " [[3]]]\n",
      "____________________________\n",
      "[[[ 6  7  3  8]\n",
      "  [ 9  7  2  9]\n",
      "  [ 7  3  2  4]]\n",
      "\n",
      " [[ 5  4  9  8]\n",
      "  [ 3  4 12  9]\n",
      "  [11  4  5 12]]]\n"
     ]
    }
   ],
   "source": [
    "#Exemple 2: suma de matrius amb una de tamany amb mida 1\n",
    "matriuA = np.random.randint(10, size=(2,3,4))\n",
    "matriuB = np.random.randint(5, size=(2,1,1))\n",
    "print(matriuA)\n",
    "print(\"____________________________\")\n",
    "print(matriuB)\n",
    "novaMatriu = np.add(matriuA, matriuB)\n",
    "print(\"____________________________\")\n",
    "print(novaMatriu)"
   ]
  },
  {
   "cell_type": "markdown",
   "id": "c33cfac4",
   "metadata": {},
   "source": [
    "## - Exercici 5\n",
    "Utilitza la Indexació per extreure els valors d'una columna i una fila de la matriu. I suma els seus valors.\n",
    "\n"
   ]
  },
  {
   "cell_type": "code",
   "execution_count": 40,
   "id": "3686b9c0",
   "metadata": {
    "ExecuteTime": {
     "end_time": "2022-04-05T18:42:54.110597Z",
     "start_time": "2022-04-05T18:42:54.098604Z"
    }
   },
   "outputs": [
    {
     "name": "stdout",
     "output_type": "stream",
     "text": [
      "[[0 2 9 1 7 7]\n",
      " [3 9 9 9 0 6]\n",
      " [6 6 5 6 3 1]\n",
      " [1 9 7 3 2 6]]\n",
      "____________________________\n",
      "[[4 2 3 0 2 4]]\n",
      "____________________________\n",
      "[[ 4  4 12  1  9 11]\n",
      " [ 7 11 12  9  2 10]\n",
      " [10  8  8  6  5  5]\n",
      " [ 5 11 10  3  4 10]]\n",
      "Els valors de la primera columna de la novaMatriu són [ 4  7 10  5]\n",
      "La suma dels valors de la primera columna de la novaMatriu és de 26\n",
      "Els valors de la tercera fila de la novaMatriu són [[10  8  8  6  5  5]]\n",
      "La suma dels valors de la tercera fila de la novaMatriu és de 42\n",
      "La suma dels valors de la primera columna i de la tercera fila de la novaMatriu és de 68\n"
     ]
    }
   ],
   "source": [
    "matriuA = np.random.randint(10, size=(4,6))\n",
    "matriuB = np.random.randint(10, size=(1,6))\n",
    "print(matriuA)\n",
    "print(\"____________________________\")\n",
    "print(matriuB)\n",
    "\n",
    "novaMatriu = np.add(matriuA, matriuB)\n",
    "print(\"____________________________\")\n",
    "print(novaMatriu)\n",
    "\n",
    "#Extracció dels valors d'una columna\n",
    "print(\"Els valors de la primera columna de la novaMatriu són\", novaMatriu[0:5, 0])\n",
    "\n",
    "#Suma dels valors d'una columna\n",
    "sumaC = np.sum(novaMatriu[0:5,0])\n",
    "print(\"La suma dels valors de la primera columna de la novaMatriu és de\", sumaC)\n",
    "\n",
    "#Extracció dels valors d'una fila\n",
    "print(\"Els valors de la tercera fila de la novaMatriu són\", novaMatriu[2:3])\n",
    "\n",
    "#Suma dels valors d'una fila\n",
    "sumaF = np.sum(novaMatriu[2:3])\n",
    "print(\"La suma dels valors de la tercera fila de la novaMatriu és de\", sumaF)\n",
    "\n",
    "#Suma dels valors d'una columna i una fila\n",
    "print(\"La suma dels valors de la primera columna i de la tercera fila de la novaMatriu és de\", sumaC+sumaF)"
   ]
  },
  {
   "cell_type": "markdown",
   "id": "705a2858",
   "metadata": {},
   "source": [
    "## - Exercici 6\n",
    "Mask la matriu anterior, realitzeu un càlcul booleà vectoritzat, agafant cada element i comprovant si es divideix uniformement per quatre.\n",
    "\n",
    "Això retorna una matriu de mask de la mateixa forma amb els resultats elementals del càlcul.\n",
    "\n"
   ]
  },
  {
   "cell_type": "code",
   "execution_count": 46,
   "id": "45538b6a",
   "metadata": {
    "ExecuteTime": {
     "end_time": "2022-04-05T19:06:42.743515Z",
     "start_time": "2022-04-05T19:06:42.723528Z"
    }
   },
   "outputs": [
    {
     "name": "stdout",
     "output_type": "stream",
     "text": [
      "[[ 4  4 12  1  9 11]\n",
      " [ 7 11 12  9  2 10]\n",
      " [10  8  8  6  5  5]\n",
      " [ 5 11 10  3  4 10]]\n",
      "[[ True  True  True False False False]\n",
      " [False False  True False False False]\n",
      " [False  True  True False False False]\n",
      " [False False False False  True False]]\n"
     ]
    }
   ],
   "source": [
    "print(novaMatriu)\n",
    "mask = novaMatriu%4 ==0      #si el número dividit pel mòdul de 4 és 0, el número és divisible per 4, per tant, true\n",
    "print(mask)\n",
    "\n"
   ]
  },
  {
   "cell_type": "markdown",
   "id": "c769184f",
   "metadata": {},
   "source": [
    "## - Exercici 7\n",
    "A continuació, utilitzeu aquesta màscara per indexar a la matriu de números original. Això fa que la matriu perdi la seva forma original, reduint-la a una dimensió, però encara obteniu les dades que esteu cercant."
   ]
  },
  {
   "cell_type": "code",
   "execution_count": null,
   "id": "2204f2fd",
   "metadata": {},
   "outputs": [],
   "source": []
  },
  {
   "cell_type": "markdown",
   "id": "8e181f56",
   "metadata": {},
   "source": [
    "# Nivell 3\n",
    "Manipulació d’imatges amb Matplotlib.\n",
    "\n",
    "Carregareu qualsevol imatge (jpg, png ..) amb Matplotlib. adoneu-vos que les imatges RGB (Red, Green, Blue) són realment només amplades × alçades × 3 matrius (tres canals Vermell, Verd i Blau), una per cada color de nombres enters int8,\n",
    "\n",
    "manipuleu aquests bytes i torneu a utilitzar Matplotlib per desar la imatge modificada un cop hàgiu acabat.\n",
    "\n",
    "Ajuda:Importeu, import matplotlib.image as mpimg. estudieu el metodde mpimg.imread(()\n",
    "\n"
   ]
  },
  {
   "cell_type": "code",
   "execution_count": null,
   "id": "01aabe4a",
   "metadata": {},
   "outputs": [],
   "source": []
  },
  {
   "cell_type": "markdown",
   "id": "90683e31",
   "metadata": {},
   "source": [
    "## - Exercici 8\n",
    "Mostreu-me a veure que passa quan eliminem el canal G Verd o B Blau.\n",
    "\n",
    "Mostreu-me a veure què passa quan eliminem el canal G Verd o B Blau. Hauries d'utilitzar la indexació per seleccionar el canal que voleu anul·lar.\n",
    "\n",
    "Utilitzar el mètode, mpimg.imsave () de la llibreria importada, per guardar les imatges modificades i que haureu de pujar al vostre repositori a github.\n",
    "\n",
    "Objectius\n",
    "dimensions, formes\n",
    "Vectoritzacio, Broadcasting\n",
    "Index i mask\n",
    "Manipulació imatges amb numpy\n"
   ]
  },
  {
   "cell_type": "code",
   "execution_count": null,
   "id": "ae03d9a3",
   "metadata": {},
   "outputs": [],
   "source": []
  }
 ],
 "metadata": {
  "hide_input": false,
  "kernelspec": {
   "display_name": "Python 3 (ipykernel)",
   "language": "python",
   "name": "python3"
  },
  "language_info": {
   "codemirror_mode": {
    "name": "ipython",
    "version": 3
   },
   "file_extension": ".py",
   "mimetype": "text/x-python",
   "name": "python",
   "nbconvert_exporter": "python",
   "pygments_lexer": "ipython3",
   "version": "3.9.7"
  },
  "latex_envs": {
   "LaTeX_envs_menu_present": true,
   "autoclose": false,
   "autocomplete": true,
   "bibliofile": "biblio.bib",
   "cite_by": "apalike",
   "current_citInitial": 1,
   "eqLabelWithNumbers": true,
   "eqNumInitial": 1,
   "hotkeys": {
    "equation": "Ctrl-E",
    "itemize": "Ctrl-I"
   },
   "labels_anchors": false,
   "latex_user_defs": false,
   "report_style_numbering": false,
   "user_envs_cfg": false
  },
  "toc": {
   "base_numbering": 1,
   "nav_menu": {},
   "number_sections": true,
   "sideBar": true,
   "skip_h1_title": false,
   "title_cell": "Table of Contents",
   "title_sidebar": "Contents",
   "toc_cell": false,
   "toc_position": {},
   "toc_section_display": true,
   "toc_window_display": false
  },
  "varInspector": {
   "cols": {
    "lenName": 16,
    "lenType": 16,
    "lenVar": 40
   },
   "kernels_config": {
    "python": {
     "delete_cmd_postfix": "",
     "delete_cmd_prefix": "del ",
     "library": "var_list.py",
     "varRefreshCmd": "print(var_dic_list())"
    },
    "r": {
     "delete_cmd_postfix": ") ",
     "delete_cmd_prefix": "rm(",
     "library": "var_list.r",
     "varRefreshCmd": "cat(var_dic_list()) "
    }
   },
   "types_to_exclude": [
    "module",
    "function",
    "builtin_function_or_method",
    "instance",
    "_Feature"
   ],
   "window_display": false
  }
 },
 "nbformat": 4,
 "nbformat_minor": 5
}
